{
 "cells": [
  {
   "cell_type": "code",
   "execution_count": 144,
   "metadata": {},
   "outputs": [
    {
     "data": {
      "text/html": [
       "<div>\n",
       "<style scoped>\n",
       "    .dataframe tbody tr th:only-of-type {\n",
       "        vertical-align: middle;\n",
       "    }\n",
       "\n",
       "    .dataframe tbody tr th {\n",
       "        vertical-align: top;\n",
       "    }\n",
       "\n",
       "    .dataframe thead th {\n",
       "        text-align: right;\n",
       "    }\n",
       "</style>\n",
       "<table border=\"1\" class=\"dataframe\">\n",
       "  <thead>\n",
       "    <tr style=\"text-align: right;\">\n",
       "      <th></th>\n",
       "      <th>label</th>\n",
       "      <th>summary</th>\n",
       "    </tr>\n",
       "  </thead>\n",
       "  <tbody>\n",
       "    <tr>\n",
       "      <th>0</th>\n",
       "      <td>3</td>\n",
       "      <td>renam project releas gdhahf</td>\n",
       "    </tr>\n",
       "    <tr>\n",
       "      <th>1</th>\n",
       "      <td>2</td>\n",
       "      <td>except disconnect gf qca</td>\n",
       "    </tr>\n",
       "    <tr>\n",
       "      <th>2</th>\n",
       "      <td>2</td>\n",
       "      <td>dbcs pde pluin manifest editor display dbc cha...</td>\n",
       "    </tr>\n",
       "    <tr>\n",
       "      <th>3</th>\n",
       "      <td>2</td>\n",
       "      <td>dbc except thread launch plugin project code r...</td>\n",
       "    </tr>\n",
       "    <tr>\n",
       "      <th>4</th>\n",
       "      <td>2</td>\n",
       "      <td>debugg show sourc type gener fail execut runna...</td>\n",
       "    </tr>\n",
       "  </tbody>\n",
       "</table>\n",
       "</div>"
      ],
      "text/plain": [
       "   label                                            summary\n",
       "0      3                       renam project releas gdhahf \n",
       "1      2                          except disconnect gf qca \n",
       "2      2  dbcs pde pluin manifest editor display dbc cha...\n",
       "3      2  dbc except thread launch plugin project code r...\n",
       "4      2  debugg show sourc type gener fail execut runna..."
      ]
     },
     "execution_count": 144,
     "metadata": {},
     "output_type": "execute_result"
    }
   ],
   "source": [
    "import numpy as np\n",
    "import pandas as pd\n",
    "import re \n",
    "import array\n",
    "# read data from xls\n",
    "\n",
    "file = 'Eclipse_4sourcev1.xls'\n",
    "data = pd.read_excel(file,header=None)\n",
    "no_of_data = int(data.shape[0])                               # this line keeps the count of lines in our dataset\n",
    "total_data = no_of_data\n",
    "test_data = 730\n",
    "no_do_data = total_data-test_data\n",
    "data = data[[0,1]]                                          # we should only take account of the necessary columns\n",
    "data.columns = ['label', 'summary']            # we gave each column a name\n",
    "#data[\"summary\"] = data[\"summary\"] + \" \" + data[\"description\"] # we merged the 2nd and 3rd column as summary\n",
    "#data = data[[\"label\",\"summary\"]]                              # description is not necessary,so we've removed that\n",
    "data.head() # this command prints a snapshot from \"data\""
   ]
  },
  {
   "cell_type": "code",
   "execution_count": 145,
   "metadata": {},
   "outputs": [],
   "source": [
    "vocub = list(); # initialized an empty set for storing words from summary column\n",
    "\n",
    "data.summary = data.summary.astype(str)\n",
    "num_of_cls =0 ;\n",
    "# this portion iterates over each line from our summary column,takes out each word and stores it into the set\n",
    "for i in range(no_of_data):\n",
    "    cls = int(data.iloc[[i]][\"label\"])\n",
    "    num_of_cls = max(cls,num_of_cls)\n",
    "\n",
    "for i in range(num_of_cls+1):\n",
    "    vocub.append([]);\n",
    "\n",
    "for i  in range(no_of_data):\n",
    "    cls = int(data.iloc[[i]][\"label\"])\n",
    "    line = str(data.iloc[[i]][\"summary\"])\n",
    "    words = re.findall('[A-Za-z]+',line)\n",
    "    words = list(words)\n",
    "    for var in words:\n",
    "        vocub[int(cls)].append(str(var))\n",
    "\n"
   ]
  },
  {
   "cell_type": "code",
   "execution_count": 146,
   "metadata": {},
   "outputs": [],
   "source": [
    "prior = list();\n",
    "for i in range(num_of_cls+1):\n",
    "    prior.append(0)\n",
    "total_size =0 ;\n",
    "for i in range(1,num_of_cls+1):\n",
    "    total_size += len(vocub[i]);\n",
    "for i in range(1,num_of_cls+1):\n",
    "    prior[i] = (len(vocub[i])/total_size);"
   ]
  },
  {
   "cell_type": "code",
   "execution_count": 147,
   "metadata": {},
   "outputs": [],
   "source": [
    "likelihood = list()\n",
    "for i in range(num_of_cls+1):\n",
    "    likelihood.append([]);\n",
    "    likelihood[i] = dict()\n",
    "\n",
    "def freq_in_all_class(string):\n",
    "    res = 0\n",
    "    for i in range(1,num_of_cls+1):\n",
    "        res+=vocub[i].count(string)\n",
    "    return res\n",
    "\n",
    "freq_mp = {}\n",
    "\n",
    "for i in range(1,num_of_cls+1):\n",
    "    for word in vocub[i]:\n",
    "        lala = 0\n",
    "        if word in freq_mp:\n",
    "            lala = freq_mp[word]\n",
    "        else:\n",
    "            lala = freq_in_all_class(word)\n",
    "            freq_mp[word] = lala\n",
    "        likelihood[i][word] = vocub[i].count(word) / lala\n"
   ]
  },
  {
   "cell_type": "code",
   "execution_count": 148,
   "metadata": {},
   "outputs": [],
   "source": [
    "def getLikelihood(word,idx):\n",
    "    if word in likelihood[idx]:\n",
    "        return likelihood[idx][word]+(1.0/len(vocub[idx]));\n",
    "    else:\n",
    "        return 1.0/len(vocub[idx]);"
   ]
  },
  {
   "cell_type": "code",
   "execution_count": 140,
   "metadata": {},
   "outputs": [],
   "source": [
    "def getProb(string,idx):\n",
    "    prob = math.log10(prior[idx]);\n",
    "    for word in string:\n",
    "        prob+=math.log10(getLikelihood(word,idx));\n",
    "    return prob;\n",
    "def getClass(string):\n",
    "    ans = 0  ;\n",
    "    prob = -10000000000000000000;\n",
    "    for i in range(1,num_of_cls+1):\n",
    "        var = getProb(string,i)\n",
    "        if(var>prob):\n",
    "            ans = i;\n",
    "            prob = var;\n",
    "    return ans"
   ]
  },
  {
   "cell_type": "code",
   "execution_count": 143,
   "metadata": {},
   "outputs": [
    {
     "name": "stdout",
     "output_type": "stream",
     "text": [
      "0.39452054794520547\n"
     ]
    }
   ],
   "source": [
    "test_data_set = {}\n",
    "\n",
    "def predict_class(string):\n",
    "    sstring = string.split(\" \")\n",
    "    INT_MIN = -10000000000000000000\n",
    "    mx_prob_arr = array.array('f',[])\n",
    "    mx_prob = INT_MIN\n",
    "    \n",
    "    for i in range(num_of_cls+1):\n",
    "        mx_prob_arr.append(INT_MIN)\n",
    "\n",
    "    for i in range(1,num_of_cls+1):\n",
    "        for wrd in sstring:\n",
    "            prob = getProb(string,i)\n",
    "            if prob>mx_prob_arr[i]:\n",
    "                mx_prob_arr[i] = prob\n",
    "    ans_class = 0\n",
    "    for i in range(1,num_of_cls+1):\n",
    "        if mx_prob<mx_prob_arr[i]:\n",
    "            mx_prob = mx_prob_arr[i]\n",
    "            ans_class = i\n",
    "    return ans_class\n",
    "\n",
    "corr_cnt = 0\n",
    "for i in range(total_data-test_data,total_data):\n",
    "    line = str(data.iloc[[i]][\"summary\"])\n",
    "    cls = int(data.iloc[[i]][\"label\"])\n",
    "    if predict_class(line)==int(cls):\n",
    "           corr_cnt+=1\n",
    "print(corr_cnt/test_data)"
   ]
  },
  {
   "cell_type": "code",
   "execution_count": 75,
   "metadata": {},
   "outputs": [
    {
     "name": "stdout",
     "output_type": "stream",
     "text": [
      "1\n"
     ]
    }
   ],
   "source": [
    "print(getClass(\"\"))"
   ]
  },
  {
   "cell_type": "code",
   "execution_count": null,
   "metadata": {},
   "outputs": [],
   "source": []
  }
 ],
 "metadata": {
  "kernelspec": {
   "display_name": "Python 3",
   "language": "python",
   "name": "python3"
  },
  "language_info": {
   "codemirror_mode": {
    "name": "ipython",
    "version": 3
   },
   "file_extension": ".py",
   "mimetype": "text/x-python",
   "name": "python",
   "nbconvert_exporter": "python",
   "pygments_lexer": "ipython3",
   "version": "3.6.5"
  }
 },
 "nbformat": 4,
 "nbformat_minor": 2
}

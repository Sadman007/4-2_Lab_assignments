{
 "cells": [
  {
   "cell_type": "code",
   "execution_count": 72,
   "metadata": {},
   "outputs": [
    {
     "data": {
      "text/html": [
       "<div>\n",
       "<style scoped>\n",
       "    .dataframe tbody tr th:only-of-type {\n",
       "        vertical-align: middle;\n",
       "    }\n",
       "\n",
       "    .dataframe tbody tr th {\n",
       "        vertical-align: top;\n",
       "    }\n",
       "\n",
       "    .dataframe thead th {\n",
       "        text-align: right;\n",
       "    }\n",
       "</style>\n",
       "<table border=\"1\" class=\"dataframe\">\n",
       "  <thead>\n",
       "    <tr style=\"text-align: right;\">\n",
       "      <th></th>\n",
       "      <th>label</th>\n",
       "      <th>summary</th>\n",
       "    </tr>\n",
       "  </thead>\n",
       "  <tbody>\n",
       "    <tr>\n",
       "      <th>0</th>\n",
       "      <td>3</td>\n",
       "      <td>renam project releas gdhahf  project junk rele...</td>\n",
       "    </tr>\n",
       "    <tr>\n",
       "      <th>1</th>\n",
       "      <td>2</td>\n",
       "      <td>except disconnect gf qca  ak pm except night w...</td>\n",
       "    </tr>\n",
       "    <tr>\n",
       "      <th>2</th>\n",
       "      <td>2</td>\n",
       "      <td>dbcs pde pluin manifest editor display dbc cha...</td>\n",
       "    </tr>\n",
       "    <tr>\n",
       "      <th>3</th>\n",
       "      <td>2</td>\n",
       "      <td>dbc except thread launch plugin project code r...</td>\n",
       "    </tr>\n",
       "    <tr>\n",
       "      <th>4</th>\n",
       "      <td>2</td>\n",
       "      <td>debugg show sourc type gener fail execut runna...</td>\n",
       "    </tr>\n",
       "  </tbody>\n",
       "</table>\n",
       "</div>"
      ],
      "text/plain": [
       "   label                                            summary\n",
       "0      3  renam project releas gdhahf  project junk rele...\n",
       "1      2  except disconnect gf qca  ak pm except night w...\n",
       "2      2  dbcs pde pluin manifest editor display dbc cha...\n",
       "3      2  dbc except thread launch plugin project code r...\n",
       "4      2  debugg show sourc type gener fail execut runna..."
      ]
     },
     "execution_count": 72,
     "metadata": {},
     "output_type": "execute_result"
    }
   ],
   "source": [
    "from sklearn.naive_bayes import MultinomialNB \n",
    "from sklearn.model_selection import train_test_split\n",
    "import numpy as np\n",
    "import pandas as pd\n",
    "import re \n",
    "\n",
    "# read data from xls\n",
    "\n",
    "file = 'Eclipse_4sourcev1.xls'\n",
    "data = pd.read_excel(file,header=None)\n",
    "no_of_data = int(data.shape[0])                               # this line keeps the count of lines in our dataset\n",
    "data = data[[0,1,2]]                                          # we should only take account of the necessary columns\n",
    "data.columns = ['label', 'summary', 'description']            # we gave each column a name\n",
    "data[\"summary\"] = data[\"summary\"] + \" \" + data[\"description\"] # we merged the 2nd and 3rd column as summary\n",
    "data = data[[\"label\",\"summary\"]]                              # description is not necessary,so we've removed that\n",
    "data.head()                                                   # this command prints a snapshot from \"data\""
   ]
  },
  {
   "cell_type": "code",
   "execution_count": 73,
   "metadata": {},
   "outputs": [],
   "source": [
    "vocub = set() # initialized an empty set for storing words from summary column\n",
    "data.summary = data.summary.astype(str)\n",
    "\n",
    "# this portion iterates over each line from our summary column,takes out each word and stores it into the set\n",
    "\n",
    "for i  in range(no_of_data):\n",
    "    line = str(data.iloc[[i]][\"summary\"])\n",
    "    words = re.findall('[A-Za-z]+',line)\n",
    "    vocub = vocub | set(words)"
   ]
  },
  {
   "cell_type": "code",
   "execution_count": 74,
   "metadata": {},
   "outputs": [],
   "source": [
    "vocub = list(vocub)\n",
    "feature_vec = np.zeros((no_of_data,len(vocub)))\n",
    "\n",
    "# Here,feature_vec[i][j] stores 1 or 0.\n",
    "# feature_vec[i][j] = 1 indicates i-th line contains the j-th word from the \"vocub\" list\n",
    "# feature_vec[i][j] = 0 indicates the opposite\n",
    "\n",
    "for i in range(no_of_data):\n",
    "    line = str(data.iloc[[i]][\"summary\"])\n",
    "    words = re.findall('[A-Za-z]+',line)\n",
    "    for j in range(len(vocub)):\n",
    "         if vocub[j] in words:\n",
    "            feature_vec[i][j] = 1"
   ]
  },
  {
   "cell_type": "code",
   "execution_count": 109,
   "metadata": {},
   "outputs": [
    {
     "name": "stdout",
     "output_type": "stream",
     "text": [
      "Accuracy when ratio is 1:10---->47.289972899729\n",
      "Accuracy when ratio is 2:9---->46.43075045759609\n",
      "Accuracy when ratio is 3:8---->45.02712477396022\n",
      "Accuracy when ratio is 4:7---->44.779307071665876\n"
     ]
    }
   ],
   "source": [
    "Label = data[\"label\"]\n",
    "\n",
    "def run_MNB(testRatio,trainRatio):\n",
    "    if testRatio>trainRatio:\n",
    "        print(\"invalid ratio. testRatio should be smaller than trainRatio.\")\n",
    "        return\n",
    "    X_train, X_test, y_train, y_test = train_test_split(feature_vec, Label, test_size=testRatio/trainRatio, random_state=42)\n",
    "    naive = MultinomialNB(alpha=1.0)\n",
    "    naive.fit(X_train,y_train)\n",
    "    ans = naive.predict(X_test)\n",
    "    accuracy = naive.score(X_test,y_test)\n",
    "    print(\"Accuracy when ratio is \"+str(testRatio)+\":\"+str(trainRatio)+\"---->\"+str(accuracy*100))\n",
    "    return\n",
    "\n",
    "for i in range(5):\n",
    "    if i==0:\n",
    "        continue\n",
    "    run_MNB(int(i),int(11-i))"
   ]
  },
  {
   "cell_type": "code",
   "execution_count": null,
   "metadata": {},
   "outputs": [],
   "source": []
  }
 ],
 "metadata": {
  "kernelspec": {
   "display_name": "Python 3",
   "language": "python",
   "name": "python3"
  },
  "language_info": {
   "codemirror_mode": {
    "name": "ipython",
    "version": 3
   },
   "file_extension": ".py",
   "mimetype": "text/x-python",
   "name": "python",
   "nbconvert_exporter": "python",
   "pygments_lexer": "ipython3",
   "version": "3.6.5"
  }
 },
 "nbformat": 4,
 "nbformat_minor": 2
}
